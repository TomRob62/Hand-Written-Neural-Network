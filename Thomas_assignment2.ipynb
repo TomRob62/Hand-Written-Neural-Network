{
 "cells": [
  {
   "cell_type": "markdown",
   "metadata": {},
   "source": [
    "#### Assignment 2\n",
    "<br/>Thomas Roberts\n",
    "<br/>Professor Dinadayalane\n",
    "<br/>CS 4277(W01) - Deep Learning\n",
    "<br/>June 17, 2020"
   ]
  },
  {
   "cell_type": "code",
   "execution_count": null,
   "metadata": {},
   "outputs": [],
   "source": []
  }
 ],
 "metadata": {
  "language_info": {
   "name": "python"
  }
 },
 "nbformat": 4,
 "nbformat_minor": 2
}
