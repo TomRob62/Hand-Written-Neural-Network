{
 "cells": [
  {
   "cell_type": "markdown",
   "metadata": {},
   "source": [
    "#### Assignment 2\n",
    "<br/>Thomas Roberts\n",
    "<br/>Professor Dinadayalane\n",
    "<br/>CS 4277(W01) - Deep Learning\n",
    "<br/>June 17, 2020"
   ]
  },
  {
   "cell_type": "code",
   "execution_count": 1,
   "metadata": {},
   "outputs": [],
   "source": [
    "# imports\n",
    "import numpy as np\n"
   ]
  },
  {
   "cell_type": "code",
   "execution_count": null,
   "metadata": {},
   "outputs": [],
   "source": [
    "# Code for Neural Network\n",
    "\n",
    "\n",
    "\n",
    "class My_Node:\n",
    "    \"\"\"\n",
    "    Description: node for my neural network\n",
    "\n",
    "    Attributes\n",
    "    ----------\n",
    "\n",
    "    Methods\n",
    "    -------\n",
    "    \"\"\"\n",
    "    weights = []\n",
    "    inputs = []\n",
    "    normalized_out = 0\n",
    "\n",
    "    def __init__(self, num_inputs) -> None:\n",
    "        \"\"\"\n",
    "        Initializer funtion\n",
    "        \"\"\"\n",
    "        self.weights = np.random.random(num_inputs)\n",
    "        self.inputs = [0*num_inputs]\n",
    "        self.normalized_out = 0\n",
    "\n",
    "    def feed_forward(self) -> float:\n",
    "        \"\"\"\n",
    "        Feed forward pass\n",
    "\n",
    "        Returns\n",
    "        -------\n",
    "        normilzed output: float\n",
    "        \"\"\"\n",
    "        # weights*inputs\n",
    "        for index, weight in enumerate(self.weights):\n",
    "            self.normalized_out += self.inputs[index]*weight\n",
    "\n",
    "        # sigmoid normalization\n",
    "        return 1/(1+np.e**(-1*self.normalized_out))\n",
    "    # end feed forward\n",
    "\n",
    "    def back_propagate(self, propagation_error) -> list:\n",
    "        \"\"\"\n",
    "        Back propagation function\n",
    "\n",
    "        Paramters\n",
    "        ---------\n",
    "        The error used for backpropagation from the previous nodes\n",
    "\n",
    "        Returns\n",
    "        ---------\n",
    "        List of error used for backpropagation for the next layer of nodes\n",
    "        \"\"\"\n",
    "\n"
   ]
  },
  {
   "cell_type": "code",
   "execution_count": null,
   "metadata": {},
   "outputs": [],
   "source": []
  }
 ],
 "metadata": {
  "kernelspec": {
   "display_name": "Python 3",
   "language": "python",
   "name": "python3"
  },
  "language_info": {
   "codemirror_mode": {
    "name": "ipython",
    "version": 3
   },
   "file_extension": ".py",
   "mimetype": "text/x-python",
   "name": "python",
   "nbconvert_exporter": "python",
   "pygments_lexer": "ipython3",
   "version": "3.11.2"
  }
 },
 "nbformat": 4,
 "nbformat_minor": 2
}
